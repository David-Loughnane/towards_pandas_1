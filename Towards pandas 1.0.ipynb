{
 "cells": [
  {
   "cell_type": "code",
   "execution_count": null,
   "metadata": {},
   "outputs": [],
   "source": []
  },
  {
   "cell_type": "code",
   "execution_count": 1,
   "metadata": {
    "slideshow": {
     "slide_type": "skip"
    }
   },
   "outputs": [
    {
     "data": {
      "text/html": [
       "<link rel=\"stylesheet\" type=\"text/css\" href=\"css/custom.css\">"
      ],
      "text/plain": [
       "<IPython.core.display.HTML object>"
      ]
     },
     "metadata": {},
     "output_type": "display_data"
    }
   ],
   "source": [
    "%%HTML\n",
    "<link rel=\"stylesheet\" type=\"text/css\" href=\"css/custom.css\">"
   ]
  },
  {
   "cell_type": "markdown",
   "metadata": {
    "slideshow": {
     "slide_type": "slide"
    }
   },
   "source": [
    "# Towards pandas 1.0\n",
    "\n",
    "Marc Garcia - @datapythonista"
   ]
  },
  {
   "cell_type": "markdown",
   "metadata": {
    "slideshow": {
     "slide_type": "slide"
    }
   },
   "source": [
    "## About me\n",
    "\n",
    "Marc Garcia - @datapythonista\n",
    "\n",
    "- 12 years working with Python\n",
    "- pandas core developer\n",
    "- Python fellow\n",
    "- Organiser of the London Python sprints group\n",
    "- Data scientist at Tesco"
   ]
  },
  {
   "cell_type": "markdown",
   "metadata": {
    "slideshow": {
     "slide_type": "slide"
    }
   },
   "source": [
    "## About pandas\n",
    "\n",
    "![](img/wes.jpg)\n",
    "\n",
    "- Started by **Wes McKinney** in 2008 in his spare time\n",
    " - To have R's `dataframe` functionality in Python"
   ]
  },
  {
   "cell_type": "markdown",
   "metadata": {
    "slideshow": {
     "slide_type": "fragment"
    }
   },
   "source": [
    "- Huge API\n",
    " - `Series` has 325 public methods/attributes\n",
    " - `DataFrame` has 224 public methods/attributes\n",
    " - Native support for 14 data formats (besides loading from Python objects)\n",
    " - More than 1,200 docstrings"
   ]
  },
  {
   "cell_type": "markdown",
   "metadata": {
    "slideshow": {
     "slide_type": "fragment"
    }
   },
   "source": [
    "- Huge user base\n",
    " - Estimated to have between **5 and 10 million users**"
   ]
  },
  {
   "cell_type": "markdown",
   "metadata": {
    "slideshow": {
     "slide_type": "fragment"
    }
   },
   "source": [
    "- Developed by the community (contributors and maintainers rarely get paid for their work in pandas)\n",
    " - Supported by **NumFOCUS**"
   ]
  },
  {
   "cell_type": "markdown",
   "metadata": {
    "slideshow": {
     "slide_type": "slide"
    }
   },
   "source": [
    "## Quick overview"
   ]
  },
  {
   "cell_type": "code",
   "execution_count": 22,
   "metadata": {
    "slideshow": {
     "slide_type": "fragment"
    }
   },
   "outputs": [
    {
     "data": {
      "text/html": [
       "<div>\n",
       "<style scoped>\n",
       "    .dataframe tbody tr th:only-of-type {\n",
       "        vertical-align: middle;\n",
       "    }\n",
       "\n",
       "    .dataframe tbody tr th {\n",
       "        vertical-align: top;\n",
       "    }\n",
       "\n",
       "    .dataframe thead th {\n",
       "        text-align: right;\n",
       "    }\n",
       "</style>\n",
       "<table border=\"1\" class=\"dataframe\">\n",
       "  <thead>\n",
       "    <tr style=\"text-align: right;\">\n",
       "      <th></th>\n",
       "      <th>PassengerId</th>\n",
       "      <th>Survived</th>\n",
       "      <th>Pclass</th>\n",
       "      <th>Name</th>\n",
       "      <th>Sex</th>\n",
       "      <th>Age</th>\n",
       "      <th>SibSp</th>\n",
       "      <th>Parch</th>\n",
       "      <th>Ticket</th>\n",
       "      <th>Fare</th>\n",
       "      <th>Cabin</th>\n",
       "      <th>Embarked</th>\n",
       "    </tr>\n",
       "  </thead>\n",
       "  <tbody>\n",
       "    <tr>\n",
       "      <th>0</th>\n",
       "      <td>1</td>\n",
       "      <td>0</td>\n",
       "      <td>3</td>\n",
       "      <td>Braund, Mr. Owen Harris</td>\n",
       "      <td>male</td>\n",
       "      <td>22.0</td>\n",
       "      <td>1</td>\n",
       "      <td>0</td>\n",
       "      <td>A/5 21171</td>\n",
       "      <td>7.2500</td>\n",
       "      <td>NaN</td>\n",
       "      <td>S</td>\n",
       "    </tr>\n",
       "    <tr>\n",
       "      <th>1</th>\n",
       "      <td>2</td>\n",
       "      <td>1</td>\n",
       "      <td>1</td>\n",
       "      <td>Cumings, Mrs. John Bradley (Florence Briggs Th...</td>\n",
       "      <td>female</td>\n",
       "      <td>38.0</td>\n",
       "      <td>1</td>\n",
       "      <td>0</td>\n",
       "      <td>PC 17599</td>\n",
       "      <td>71.2833</td>\n",
       "      <td>C85</td>\n",
       "      <td>C</td>\n",
       "    </tr>\n",
       "    <tr>\n",
       "      <th>2</th>\n",
       "      <td>3</td>\n",
       "      <td>1</td>\n",
       "      <td>3</td>\n",
       "      <td>Heikkinen, Miss. Laina</td>\n",
       "      <td>female</td>\n",
       "      <td>26.0</td>\n",
       "      <td>0</td>\n",
       "      <td>0</td>\n",
       "      <td>STON/O2. 3101282</td>\n",
       "      <td>7.9250</td>\n",
       "      <td>NaN</td>\n",
       "      <td>S</td>\n",
       "    </tr>\n",
       "    <tr>\n",
       "      <th>3</th>\n",
       "      <td>4</td>\n",
       "      <td>1</td>\n",
       "      <td>1</td>\n",
       "      <td>Futrelle, Mrs. Jacques Heath (Lily May Peel)</td>\n",
       "      <td>female</td>\n",
       "      <td>35.0</td>\n",
       "      <td>1</td>\n",
       "      <td>0</td>\n",
       "      <td>113803</td>\n",
       "      <td>53.1000</td>\n",
       "      <td>C123</td>\n",
       "      <td>S</td>\n",
       "    </tr>\n",
       "    <tr>\n",
       "      <th>4</th>\n",
       "      <td>5</td>\n",
       "      <td>0</td>\n",
       "      <td>3</td>\n",
       "      <td>Allen, Mr. William Henry</td>\n",
       "      <td>male</td>\n",
       "      <td>35.0</td>\n",
       "      <td>0</td>\n",
       "      <td>0</td>\n",
       "      <td>373450</td>\n",
       "      <td>8.0500</td>\n",
       "      <td>NaN</td>\n",
       "      <td>S</td>\n",
       "    </tr>\n",
       "  </tbody>\n",
       "</table>\n",
       "</div>"
      ],
      "text/plain": [
       "   PassengerId  Survived  Pclass  \\\n",
       "0            1         0       3   \n",
       "1            2         1       1   \n",
       "2            3         1       3   \n",
       "3            4         1       1   \n",
       "4            5         0       3   \n",
       "\n",
       "                                                Name     Sex   Age  SibSp  \\\n",
       "0                            Braund, Mr. Owen Harris    male  22.0      1   \n",
       "1  Cumings, Mrs. John Bradley (Florence Briggs Th...  female  38.0      1   \n",
       "2                             Heikkinen, Miss. Laina  female  26.0      0   \n",
       "3       Futrelle, Mrs. Jacques Heath (Lily May Peel)  female  35.0      1   \n",
       "4                           Allen, Mr. William Henry    male  35.0      0   \n",
       "\n",
       "   Parch            Ticket     Fare Cabin Embarked  \n",
       "0      0         A/5 21171   7.2500   NaN        S  \n",
       "1      0          PC 17599  71.2833   C85        C  \n",
       "2      0  STON/O2. 3101282   7.9250   NaN        S  \n",
       "3      0            113803  53.1000  C123        S  \n",
       "4      0            373450   8.0500   NaN        S  "
      ]
     },
     "execution_count": 22,
     "metadata": {},
     "output_type": "execute_result"
    }
   ],
   "source": [
    "import pandas\n",
    "\n",
    "df = pandas.read_csv('data/titanic.csv.gz')\n",
    "df.head()"
   ]
  },
  {
   "cell_type": "code",
   "execution_count": 23,
   "metadata": {
    "slideshow": {
     "slide_type": "subslide"
    }
   },
   "outputs": [
    {
     "data": {
      "image/png": "[encoded data removed]",
      "text/plain": [
       "<Figure size 432x288 with 1 Axes>"
      ]
     },
     "metadata": {},
     "output_type": "display_data"
    }
   ],
   "source": [
    "%matplotlib inline\n",
    "\n",
    "df[['Age']].boxplot();"
   ]
  },
  {
   "cell_type": "code",
   "execution_count": 28,
   "metadata": {
    "slideshow": {
     "slide_type": "fragment"
    }
   },
   "outputs": [
    {
     "data": {
      "image/png": "[encoded data removed]",
      "text/plain": [
       "<Figure size 432x288 with 1 Axes>"
      ]
     },
     "metadata": {},
     "output_type": "display_data"
    }
   ],
   "source": [
    "df = df[df.Age < df.Age.quantile(.99)]\n",
    "\n",
    "df[['Age']].boxplot();"
   ]
  },
  {
   "cell_type": "code",
   "execution_count": 24,
   "metadata": {
    "slideshow": {
     "slide_type": "subslide"
    }
   },
   "outputs": [
    {
     "data": {
      "text/plain": [
       "'20% passengers with unknown age'"
      ]
     },
     "execution_count": 24,
     "metadata": {},
     "output_type": "execute_result"
    }
   ],
   "source": [
    "'{:.0%} passengers with unknown age'.format(df['Age'].isnull().mean())"
   ]
  },
  {
   "cell_type": "code",
   "execution_count": 25,
   "metadata": {
    "slideshow": {
     "slide_type": "fragment"
    }
   },
   "outputs": [],
   "source": [
    "df['Age'].fillna(df.Age.median(), inplace=True)"
   ]
  },
  {
   "cell_type": "code",
   "execution_count": 26,
   "metadata": {
    "slideshow": {
     "slide_type": "fragment"
    }
   },
   "outputs": [
    {
     "data": {
      "text/plain": [
       "'0% passengers with unknown age'"
      ]
     },
     "execution_count": 26,
     "metadata": {},
     "output_type": "execute_result"
    }
   ],
   "source": [
    "'{:.0%} passengers with unknown age'.format(df['Age'].isnull().mean())"
   ]
  },
  {
   "cell_type": "code",
   "execution_count": 29,
   "metadata": {
    "slideshow": {
     "slide_type": "fragment"
    }
   },
   "outputs": [
    {
     "data": {
      "text/plain": [
       "0    Young\n",
       "1    Young\n",
       "2    Young\n",
       "3    Young\n",
       "4    Young\n",
       "Name: Age, dtype: category\n",
       "Categories (3, object): [Underage < Young < Experienced]"
      ]
     },
     "execution_count": 29,
     "metadata": {},
     "output_type": "execute_result"
    }
   ],
   "source": [
    "df['Age'] = pandas.cut(df['Age'],\n",
    "                       bins=[df.Age.min(), 18, 40, df.Age.max()],\n",
    "                       labels=['Underage', 'Young', 'Experienced'])\n",
    "df['Age'].head()"
   ]
  },
  {
   "cell_type": "code",
   "execution_count": 30,
   "metadata": {
    "slideshow": {
     "slide_type": "subslide"
    }
   },
   "outputs": [
    {
     "data": {
      "text/html": [
       "<div>\n",
       "<style scoped>\n",
       "    .dataframe tbody tr th:only-of-type {\n",
       "        vertical-align: middle;\n",
       "    }\n",
       "\n",
       "    .dataframe tbody tr th {\n",
       "        vertical-align: top;\n",
       "    }\n",
       "\n",
       "    .dataframe thead th {\n",
       "        text-align: right;\n",
       "    }\n",
       "</style>\n",
       "<table border=\"1\" class=\"dataframe\">\n",
       "  <thead>\n",
       "    <tr style=\"text-align: right;\">\n",
       "      <th>Pclass</th>\n",
       "      <th>1</th>\n",
       "      <th>2</th>\n",
       "      <th>3</th>\n",
       "    </tr>\n",
       "    <tr>\n",
       "      <th>Age</th>\n",
       "      <th></th>\n",
       "      <th></th>\n",
       "      <th></th>\n",
       "    </tr>\n",
       "  </thead>\n",
       "  <tbody>\n",
       "    <tr>\n",
       "      <th>Underage</th>\n",
       "      <td>0.687500</td>\n",
       "      <td>0.482759</td>\n",
       "      <td>0.462366</td>\n",
       "    </tr>\n",
       "    <tr>\n",
       "      <th>Young</th>\n",
       "      <td>0.459677</td>\n",
       "      <td>0.404959</td>\n",
       "      <td>0.257703</td>\n",
       "    </tr>\n",
       "    <tr>\n",
       "      <th>Experienced</th>\n",
       "      <td>0.387097</td>\n",
       "      <td>0.419355</td>\n",
       "      <td>0.228571</td>\n",
       "    </tr>\n",
       "  </tbody>\n",
       "</table>\n",
       "</div>"
      ],
      "text/plain": [
       "Pclass              1         2         3\n",
       "Age                                      \n",
       "Underage     0.687500  0.482759  0.462366\n",
       "Young        0.459677  0.404959  0.257703\n",
       "Experienced  0.387097  0.419355  0.228571"
      ]
     },
     "execution_count": 30,
     "metadata": {},
     "output_type": "execute_result"
    }
   ],
   "source": [
    "df['Sex'] = df['Sex'].replace({'female': 1, 'male': 0})\n",
    "\n",
    "df = df.pivot_table(values='Sex', columns='Pclass', index='Age', aggfunc='mean')\n",
    "df"
   ]
  },
  {
   "cell_type": "code",
   "execution_count": 31,
   "metadata": {
    "slideshow": {
     "slide_type": "fragment"
    }
   },
   "outputs": [
    {
     "data": {
      "text/html": [
       "<style  type=\"text/css\" >\n",
       "</style>  \n",
       "<table id=\"T_209859a6_9c15_11e8_86e4_648099984828\" > \n",
       "<thead>    <tr> \n",
       "        <th class=\"index_name level0\" ></th> \n",
       "        <th class=\"col_heading level0 col0\" >Class 1</th> \n",
       "        <th class=\"col_heading level0 col1\" >Class 2</th> \n",
       "        <th class=\"col_heading level0 col2\" >Class 3</th> \n",
       "    </tr>    <tr> \n",
       "        <th class=\"index_name level0\" >Age</th> \n",
       "        <th class=\"blank\" ></th> \n",
       "        <th class=\"blank\" ></th> \n",
       "        <th class=\"blank\" ></th> \n",
       "    </tr></thead> \n",
       "<tbody>    <tr> \n",
       "        <th id=\"T_209859a6_9c15_11e8_86e4_648099984828level0_row0\" class=\"row_heading level0 row0\" >Underage</th> \n",
       "        <td id=\"T_209859a6_9c15_11e8_86e4_648099984828row0_col0\" class=\"data row0 col0\" >68.75%</td> \n",
       "        <td id=\"T_209859a6_9c15_11e8_86e4_648099984828row0_col1\" class=\"data row0 col1\" >48.28%</td> \n",
       "        <td id=\"T_209859a6_9c15_11e8_86e4_648099984828row0_col2\" class=\"data row0 col2\" >46.24%</td> \n",
       "    </tr>    <tr> \n",
       "        <th id=\"T_209859a6_9c15_11e8_86e4_648099984828level0_row1\" class=\"row_heading level0 row1\" >Young</th> \n",
       "        <td id=\"T_209859a6_9c15_11e8_86e4_648099984828row1_col0\" class=\"data row1 col0\" >45.97%</td> \n",
       "        <td id=\"T_209859a6_9c15_11e8_86e4_648099984828row1_col1\" class=\"data row1 col1\" >40.50%</td> \n",
       "        <td id=\"T_209859a6_9c15_11e8_86e4_648099984828row1_col2\" class=\"data row1 col2\" >25.77%</td> \n",
       "    </tr>    <tr> \n",
       "        <th id=\"T_209859a6_9c15_11e8_86e4_648099984828level0_row2\" class=\"row_heading level0 row2\" >Experienced</th> \n",
       "        <td id=\"T_209859a6_9c15_11e8_86e4_648099984828row2_col0\" class=\"data row2 col0\" >38.71%</td> \n",
       "        <td id=\"T_209859a6_9c15_11e8_86e4_648099984828row2_col1\" class=\"data row2 col1\" >41.94%</td> \n",
       "        <td id=\"T_209859a6_9c15_11e8_86e4_648099984828row2_col2\" class=\"data row2 col2\" >22.86%</td> \n",
       "    </tr></tbody> \n",
       "</table> "
      ],
      "text/plain": [
       "<pandas.io.formats.style.Styler at 0xa4890b8>"
      ]
     },
     "execution_count": 31,
     "metadata": {},
     "output_type": "execute_result"
    }
   ],
   "source": [
    "df = df.rename_axis('', axis='columns')\n",
    "df = df.rename('Class {}'.format, axis='columns')\n",
    "df.style.format('{:.2%}')"
   ]
  },
  {
   "cell_type": "markdown",
   "metadata": {
    "slideshow": {
     "slide_type": "slide"
    }
   },
   "source": [
    "## So, what's going on?"
   ]
  },
  {
   "cell_type": "markdown",
   "metadata": {
    "slideshow": {
     "slide_type": "slide"
    }
   },
   "source": [
    "### Deprecations\n",
    "\n",
    "- `.ix` method\n",
    " - Use `.loc` and `.iloc` instead"
   ]
  },
  {
   "cell_type": "markdown",
   "metadata": {
    "slideshow": {
     "slide_type": "fragment"
    }
   },
   "source": [
    "- Deprecation of `Panel` (3-dimensional `DataFrame`)\n",
    " - Use `DataFrame` with multi-index, or `x-array` package instead"
   ]
  },
  {
   "cell_type": "markdown",
   "metadata": {
    "slideshow": {
     "slide_type": "fragment"
    }
   },
   "source": [
    "- `SparseDataFrame`\n",
    " - TBC"
   ]
  },
  {
   "cell_type": "markdown",
   "metadata": {
    "slideshow": {
     "slide_type": "subslide"
    }
   },
   "source": [
    "### Deprecations\n",
    "\n",
    "- `inplace=True` in `Series` and `DataFrame` methods\n",
    " - TBC"
   ]
  },
  {
   "cell_type": "code",
   "execution_count": 2,
   "metadata": {
    "slideshow": {
     "slide_type": "fragment"
    }
   },
   "outputs": [
    {
     "data": {
      "text/html": [
       "<style  type=\"text/css\" >\n",
       "</style>  \n",
       "<table id=\"T_036a9d82_9c1a_11e8_91c2_648099984828\" > \n",
       "<thead>    <tr> \n",
       "        <th class=\"index_name level0\" ></th> \n",
       "        <th class=\"col_heading level0 col0\" >Class 1</th> \n",
       "        <th class=\"col_heading level0 col1\" >Class 2</th> \n",
       "        <th class=\"col_heading level0 col2\" >Class 3</th> \n",
       "    </tr>    <tr> \n",
       "        <th class=\"index_name level0\" >Age</th> \n",
       "        <th class=\"blank\" ></th> \n",
       "        <th class=\"blank\" ></th> \n",
       "        <th class=\"blank\" ></th> \n",
       "    </tr></thead> \n",
       "<tbody>    <tr> \n",
       "        <th id=\"T_036a9d82_9c1a_11e8_91c2_648099984828level0_row0\" class=\"row_heading level0 row0\" >Underage</th> \n",
       "        <td id=\"T_036a9d82_9c1a_11e8_91c2_648099984828row0_col0\" class=\"data row0 col0\" >68.75%</td> \n",
       "        <td id=\"T_036a9d82_9c1a_11e8_91c2_648099984828row0_col1\" class=\"data row0 col1\" >48.28%</td> \n",
       "        <td id=\"T_036a9d82_9c1a_11e8_91c2_648099984828row0_col2\" class=\"data row0 col2\" >46.24%</td> \n",
       "    </tr>    <tr> \n",
       "        <th id=\"T_036a9d82_9c1a_11e8_91c2_648099984828level0_row1\" class=\"row_heading level0 row1\" >Young</th> \n",
       "        <td id=\"T_036a9d82_9c1a_11e8_91c2_648099984828row1_col0\" class=\"data row1 col0\" >51.06%</td> \n",
       "        <td id=\"T_036a9d82_9c1a_11e8_91c2_648099984828row1_col1\" class=\"data row1 col1\" >42.73%</td> \n",
       "        <td id=\"T_036a9d82_9c1a_11e8_91c2_648099984828row1_col2\" class=\"data row1 col2\" >22.62%</td> \n",
       "    </tr>    <tr> \n",
       "        <th id=\"T_036a9d82_9c1a_11e8_91c2_648099984828level0_row2\" class=\"row_heading level0 row2\" >Experienced</th> \n",
       "        <td id=\"T_036a9d82_9c1a_11e8_91c2_648099984828row2_col0\" class=\"data row2 col0\" >36.11%</td> \n",
       "        <td id=\"T_036a9d82_9c1a_11e8_91c2_648099984828row2_col1\" class=\"data row2 col1\" >40.62%</td> \n",
       "        <td id=\"T_036a9d82_9c1a_11e8_91c2_648099984828row2_col2\" class=\"data row2 col2\" >23.68%</td> \n",
       "    </tr></tbody> \n",
       "</table> "
      ],
      "text/plain": [
       "<pandas.io.formats.style.Styler at 0x3885438>"
      ]
     },
     "execution_count": 2,
     "metadata": {},
     "output_type": "execute_result"
    }
   ],
   "source": [
    "import pandas\n",
    "\n",
    "df = pandas.read_csv('data/titanic.csv.gz')\n",
    "\n",
    "df = df[df.Age < df.Age.quantile(.99)]\n",
    "\n",
    "df['Age'].fillna(df.Age.median(), inplace=True)  # <- Using inplace\n",
    "\n",
    "df['Age'] = pandas.cut(df['Age'],\n",
    "                       bins=[df.Age.min(), 18, 40, df.Age.max()],\n",
    "                       labels=['Underage', 'Young', 'Experienced'])\n",
    "\n",
    "df['Sex'] = df['Sex'].replace({'female': 1, 'male': 0})\n",
    "\n",
    "df = df.pivot_table(values='Sex', columns='Pclass', index='Age', aggfunc='mean')\n",
    "\n",
    "df = df.rename_axis('', axis='columns')\n",
    "\n",
    "df = df.rename('Class {}'.format, axis='columns')\n",
    "\n",
    "df.style.format('{:.2%}')"
   ]
  },
  {
   "cell_type": "code",
   "execution_count": 1,
   "metadata": {},
   "outputs": [
    {
     "data": {
      "text/html": [
       "<style  type=\"text/css\" >\n",
       "</style>  \n",
       "<table id=\"T_c9d7b174_9c19_11e8_a900_648099984828\" > \n",
       "<thead>    <tr> \n",
       "        <th class=\"index_name level0\" ></th> \n",
       "        <th class=\"col_heading level0 col0\" >Class 1</th> \n",
       "        <th class=\"col_heading level0 col1\" >Class 2</th> \n",
       "        <th class=\"col_heading level0 col2\" >Class 3</th> \n",
       "    </tr>    <tr> \n",
       "        <th class=\"index_name level0\" >Age</th> \n",
       "        <th class=\"blank\" ></th> \n",
       "        <th class=\"blank\" ></th> \n",
       "        <th class=\"blank\" ></th> \n",
       "    </tr></thead> \n",
       "<tbody>    <tr> \n",
       "        <th id=\"T_c9d7b174_9c19_11e8_a900_648099984828level0_row0\" class=\"row_heading level0 row0\" >Underage</th> \n",
       "        <td id=\"T_c9d7b174_9c19_11e8_a900_648099984828row0_col0\" class=\"data row0 col0\" >68.75%</td> \n",
       "        <td id=\"T_c9d7b174_9c19_11e8_a900_648099984828row0_col1\" class=\"data row0 col1\" >48.28%</td> \n",
       "        <td id=\"T_c9d7b174_9c19_11e8_a900_648099984828row0_col2\" class=\"data row0 col2\" >46.24%</td> \n",
       "    </tr>    <tr> \n",
       "        <th id=\"T_c9d7b174_9c19_11e8_a900_648099984828level0_row1\" class=\"row_heading level0 row1\" >Young</th> \n",
       "        <td id=\"T_c9d7b174_9c19_11e8_a900_648099984828row1_col0\" class=\"data row1 col0\" >51.06%</td> \n",
       "        <td id=\"T_c9d7b174_9c19_11e8_a900_648099984828row1_col1\" class=\"data row1 col1\" >42.73%</td> \n",
       "        <td id=\"T_c9d7b174_9c19_11e8_a900_648099984828row1_col2\" class=\"data row1 col2\" >22.62%</td> \n",
       "    </tr>    <tr> \n",
       "        <th id=\"T_c9d7b174_9c19_11e8_a900_648099984828level0_row2\" class=\"row_heading level0 row2\" >Experienced</th> \n",
       "        <td id=\"T_c9d7b174_9c19_11e8_a900_648099984828row2_col0\" class=\"data row2 col0\" >36.11%</td> \n",
       "        <td id=\"T_c9d7b174_9c19_11e8_a900_648099984828row2_col1\" class=\"data row2 col1\" >40.62%</td> \n",
       "        <td id=\"T_c9d7b174_9c19_11e8_a900_648099984828row2_col2\" class=\"data row2 col2\" >23.68%</td> \n",
       "    </tr></tbody> \n",
       "</table> "
      ],
      "text/plain": [
       "<pandas.io.formats.style.Styler at 0x2add7b8>"
      ]
     },
     "execution_count": 1,
     "metadata": {},
     "output_type": "execute_result"
    }
   ],
   "source": [
    "import pandas\n",
    "\n",
    "(pandas.read_csv('data/titanic.csv.gz')\n",
    "       .query('Age < Age.quantile(.99)')\n",
    "       .assign(Sex=lambda df: df['Sex'].replace({'female': 1, 'male': 0}),\n",
    "               Age=lambda df: pandas.cut(df['Age'].fillna(df.Age.median()),\n",
    "                                         bins=[df.Age.min(), 18, 40, df.Age.max()],\n",
    "                                         labels=['Underage', 'Young', 'Experienced']))\n",
    "       .pivot_table(values='Sex', columns='Pclass', index='Age', aggfunc='mean')\n",
    "       .rename_axis('', axis='columns')\n",
    "       .rename('Class {}'.format, axis='columns')\n",
    "       .style.format('{:.2%}'))"
   ]
  },
  {
   "cell_type": "markdown",
   "metadata": {
    "slideshow": {
     "slide_type": "fragment"
    }
   },
   "source": [
    "### TODO: explain well memory copies and lazy operations\n",
    "\n",
    "- This syntax should avoid unnecesary memory copies\n",
    "- May be in the long term operations could be lazy?"
   ]
  },
  {
   "cell_type": "markdown",
   "metadata": {
    "slideshow": {
     "slide_type": "slide"
    }
   },
   "source": [
    "## Dropping Python 2 support\n",
    "\n",
    "- In January 2019 (yes, in 4.5 months)\n",
    " - Not only pandas, also numpy, matplotlib and others"
   ]
  },
  {
   "cell_type": "markdown",
   "metadata": {
    "slideshow": {
     "slide_type": "subslide"
    }
   },
   "source": [
    "## Some Python 3 features\n",
    "\n",
    "Old:\n",
    "```python\n",
    "samples = 100000000\n",
    "```\n",
    "\n",
    "New:\n",
    "```python\n",
    "samples = 100_000_000\n",
    "```"
   ]
  },
  {
   "cell_type": "markdown",
   "metadata": {
    "slideshow": {
     "slide_type": "subslide"
    }
   },
   "source": [
    "## Some Python 3 features\n",
    "\n",
    "Old:\n",
    "```python\n",
    "print('samples: %s' % samples)\n",
    "print('samples: {samples}'.format(samples=samples))\n",
    "```\n",
    "\n",
    "New:\n",
    "```python\n",
    "print(f'samples: {samples}')\n",
    "```"
   ]
  },
  {
   "cell_type": "markdown",
   "metadata": {
    "slideshow": {
     "slide_type": "subslide"
    }
   },
   "source": [
    "## Some Python 3 features\n",
    "\n",
    "```python\n",
    "data = 'My hovercraft is full of eels.'.split()\n",
    "```\n",
    "\n",
    "Old:\n",
    "```python\n",
    "first, second, last = data[0], data[1], data[-1]\n",
    "```\n",
    "\n",
    "New:\n",
    "```python\n",
    "first, second, *discard, last = data\n",
    "```"
   ]
  },
  {
   "cell_type": "markdown",
   "metadata": {
    "slideshow": {
     "slide_type": "subslide"
    }
   },
   "source": [
    "## Cost of supporting Python 2\n",
    "\n",
    "Supporting last version only:\n",
    "```python\n",
    "def length(value):\n",
    "    if isinstance(value, str):\n",
    "        return len(value)\n",
    "```\n",
    "\n",
    "Supporting Python 2:\n",
    "```python\n",
    "def length(value):\n",
    "    if isinstance(value, compat.string_types):\n",
    "        return compat.strlen(value)\n",
    "```"
   ]
  },
  {
   "cell_type": "markdown",
   "metadata": {
    "slideshow": {
     "slide_type": "subslide"
    }
   },
   "source": [
    "## Cost of supporting Python 2\n",
    "\n",
    "Supporting last version only:\n",
    "```python\n",
    "def sorted_apply(func, items):\n",
    "    return {x: func(x) for x in items}\n",
    "```\n",
    "\n",
    "Supporting Python 2:\n",
    "```python\n",
    "def sorted_apply(func, items):\n",
    "    if compat.PY36:\n",
    "        return {x: func(x) for x in items}\n",
    "    else:\n",
    "        result = collections.OrderedDict()\n",
    "        for x in items:\n",
    "            result[x] = func(x)\n",
    "        return result\n",
    "```"
   ]
  },
  {
   "cell_type": "markdown",
   "metadata": {
    "slideshow": {
     "slide_type": "subslide"
    }
   },
   "source": [
    "## Dropping Python 2 support\n",
    "\n",
    "- In January 2019 (yes, in 4.5 months)\n",
    " - Not only pandas, also numpy, matplotlib and others"
   ]
  },
  {
   "cell_type": "markdown",
   "metadata": {
    "slideshow": {
     "slide_type": "slide"
    }
   },
   "source": [
    "## Extension arrays"
   ]
  },
  {
   "cell_type": "code",
   "execution_count": 3,
   "metadata": {
    "slideshow": {
     "slide_type": "fragment"
    }
   },
   "outputs": [
    {
     "data": {
      "text/plain": [
       "0    1\n",
       "1    2\n",
       "2    3\n",
       "dtype: uint8"
      ]
     },
     "execution_count": 3,
     "metadata": {},
     "output_type": "execute_result"
    }
   ],
   "source": [
    "import numpy\n",
    "import pandas\n",
    "\n",
    "s = pandas.Series([1, 2, 3], dtype=numpy.uint8)\n",
    "\n",
    "s"
   ]
  },
  {
   "cell_type": "markdown",
   "metadata": {
    "slideshow": {
     "slide_type": "subslide"
    }
   },
   "source": [
    "### Categories"
   ]
  },
  {
   "cell_type": "code",
   "execution_count": 10,
   "metadata": {
    "slideshow": {
     "slide_type": "fragment"
    }
   },
   "outputs": [
    {
     "data": {
      "text/plain": [
       "0    dog\n",
       "1    cat\n",
       "2    dog\n",
       "dtype: category\n",
       "Categories (2, object): [cat, dog]"
      ]
     },
     "execution_count": 10,
     "metadata": {},
     "output_type": "execute_result"
    }
   ],
   "source": [
    "s = pandas.Series(['dog', 'cat', 'dog'], dtype='category')\n",
    "\n",
    "s"
   ]
  },
  {
   "cell_type": "code",
   "execution_count": 11,
   "metadata": {
    "slideshow": {
     "slide_type": "fragment"
    }
   },
   "outputs": [
    {
     "data": {
      "text/plain": [
       "0    1\n",
       "1    0\n",
       "2    1\n",
       "dtype: int8"
      ]
     },
     "execution_count": 11,
     "metadata": {},
     "output_type": "execute_result"
    }
   ],
   "source": [
    "s.cat.codes"
   ]
  },
  {
   "cell_type": "markdown",
   "metadata": {
    "slideshow": {
     "slide_type": "subslide"
    }
   },
   "source": [
    "### Cyberpandas"
   ]
  },
  {
   "cell_type": "code",
   "execution_count": 5,
   "metadata": {
    "slideshow": {
     "slide_type": "fragment"
    }
   },
   "outputs": [
    {
     "data": {
      "text/plain": [
       "0        127.0.0.1\n",
       "1    255.255.255.0\n",
       "dtype: ip"
      ]
     },
     "execution_count": 5,
     "metadata": {},
     "output_type": "execute_result"
    }
   ],
   "source": [
    "import cyberpandas\n",
    "\n",
    "arr = cyberpandas.IPArray(['127.0.0.1', '255.255.255.0'])\n",
    "\n",
    "s = pandas.Series(arr)\n",
    "\n",
    "s"
   ]
  },
  {
   "cell_type": "markdown",
   "metadata": {
    "slideshow": {
     "slide_type": "subslide"
    }
   },
   "source": [
    "### Geopandas"
   ]
  },
  {
   "cell_type": "code",
   "execution_count": 1,
   "metadata": {
    "slideshow": {
     "slide_type": "fragment"
    }
   },
   "outputs": [
    {
     "data": {
      "text/plain": [
       "attraction    object\n",
       "city          object\n",
       "geometry      object\n",
       "dtype: object"
      ]
     },
     "execution_count": 1,
     "metadata": {},
     "output_type": "execute_result"
    }
   ],
   "source": [
    "import geopandas\n",
    "from shapely.geometry import Point\n",
    "\n",
    "geometry = geopandas.GeoSeries([Point(51.500772, -0.124621),\n",
    "                                Point(48.858251, 2.294413)])\n",
    "\n",
    "cities = geopandas.GeoDataFrame([('Big Ben', 'London'),\n",
    "                                 ('Tour Eiffel', 'Paris')],\n",
    "                                columns=('attraction', 'city'),\n",
    "                                geometry=geometry)\n",
    "\n",
    "cities.dtypes"
   ]
  },
  {
   "cell_type": "markdown",
   "metadata": {
    "slideshow": {
     "slide_type": "subslide"
    }
   },
   "source": [
    "### Fletcher"
   ]
  },
  {
   "cell_type": "code",
   "execution_count": 12,
   "metadata": {
    "slideshow": {
     "slide_type": "subslide"
    }
   },
   "outputs": [
    {
     "data": {
      "text/plain": [
       "['spam',\n",
       " 'spam',\n",
       " 'spam',\n",
       " 'spam,',\n",
       " 'spam',\n",
       " 'spam!',\n",
       " 'spam!',\n",
       " 'spam!',\n",
       " 'spam',\n",
       " 'spam!']"
      ]
     },
     "execution_count": 12,
     "metadata": {},
     "output_type": "execute_result"
    }
   ],
   "source": [
    "spam_list = [random.choice(['spam', 'spam,', 'spam!'])\n",
    "             for i in range(10_000_000)]\n",
    "\n",
    "spam_list[:10]"
   ]
  },
  {
   "cell_type": "code",
   "execution_count": 13,
   "metadata": {
    "slideshow": {
     "slide_type": "fragment"
    }
   },
   "outputs": [
    {
     "data": {
      "text/plain": [
       "0.333175"
      ]
     },
     "execution_count": 13,
     "metadata": {},
     "output_type": "execute_result"
    }
   ],
   "source": [
    "import pandas\n",
    "\n",
    "s = pandas.Series(spam_list)\n",
    "\n",
    "s.str.endswith('!').mean()"
   ]
  },
  {
   "cell_type": "code",
   "execution_count": 21,
   "metadata": {
    "slideshow": {
     "slide_type": "fragment"
    }
   },
   "outputs": [
    {
     "name": "stdout",
     "output_type": "stream",
     "text": [
      "84.65 Mb\n"
     ]
    }
   ],
   "source": [
    "print('%.2f Mb' % (s.memory_usage(deep=True) / 1024 / 1024))"
   ]
  },
  {
   "cell_type": "code",
   "execution_count": 14,
   "metadata": {
    "slideshow": {
     "slide_type": "fragment"
    }
   },
   "outputs": [
    {
     "name": "stdout",
     "output_type": "stream",
     "text": [
      "4.71 s ± 350 ms per loop (mean ± std. dev. of 7 runs, 1 loop each)\n"
     ]
    }
   ],
   "source": [
    "%timeit s.str.endswith('!').mean()"
   ]
  },
  {
   "cell_type": "code",
   "execution_count": 23,
   "metadata": {
    "slideshow": {
     "slide_type": "subslide"
    }
   },
   "outputs": [
    {
     "data": {
      "text/plain": [
       "0     spam\n",
       "1     spam\n",
       "2     spam\n",
       "3    spam,\n",
       "4     spam\n",
       "dtype: fletcher[string]"
      ]
     },
     "execution_count": 23,
     "metadata": {},
     "output_type": "execute_result"
    }
   ],
   "source": [
    "import fletcher\n",
    "\n",
    "spam_fletcher = fletcher.FletcherArray(spam_list)\n",
    "\n",
    "s = pandas.Series(spam_fletcher)\n",
    "s.head()"
   ]
  },
  {
   "cell_type": "code",
   "execution_count": 24,
   "metadata": {
    "slideshow": {
     "slide_type": "fragment"
    }
   },
   "outputs": [
    {
     "name": "stdout",
     "output_type": "stream",
     "text": [
      "84.65 Mb\n"
     ]
    }
   ],
   "source": [
    "print('%.2f Mb' % (s.memory_usage(deep=True) / 1024 / 1024))"
   ]
  },
  {
   "cell_type": "code",
   "execution_count": 26,
   "metadata": {
    "slideshow": {
     "slide_type": "fragment"
    }
   },
   "outputs": [
    {
     "name": "stdout",
     "output_type": "stream",
     "text": [
      "3.15 s ± 136 ms per loop (mean ± std. dev. of 7 runs, 1 loop each)\n"
     ]
    }
   ],
   "source": [
    "%timeit s.text.endswith('!').mean()"
   ]
  },
  {
   "cell_type": "code",
   "execution_count": 1,
   "metadata": {},
   "outputs": [
    {
     "ename": "AttributeError",
     "evalue": "'FletcherArray' object has no attribute '__name__'",
     "output_type": "error",
     "traceback": [
      "\u001b[1;31m---------------------------------------------------------------------------\u001b[0m",
      "\u001b[1;31mAttributeError\u001b[0m                            Traceback (most recent call last)",
      "\u001b[1;32m<ipython-input-1-9878236ce440>\u001b[0m in \u001b[0;36m<module>\u001b[1;34m()\u001b[0m\n\u001b[0;32m      1\u001b[0m \u001b[1;32mimport\u001b[0m \u001b[0mfletcher\u001b[0m\u001b[1;33m\u001b[0m\u001b[0m\n\u001b[0;32m      2\u001b[0m \u001b[1;33m\u001b[0m\u001b[0m\n\u001b[1;32m----> 3\u001b[1;33m \u001b[0mfletcher\u001b[0m\u001b[1;33m.\u001b[0m\u001b[0mFletcherArray\u001b[0m\u001b[1;33m(\u001b[0m\u001b[0mrange\u001b[0m\u001b[1;33m(\u001b[0m\u001b[1;36m3\u001b[0m\u001b[1;33m)\u001b[0m\u001b[1;33m)\u001b[0m\u001b[1;33m\u001b[0m\u001b[0m\n\u001b[0m",
      "\u001b[1;32m~\\miniconda3\\envs\\towards_pandas_1\\lib\\site-packages\\fletcher\\base.py\u001b[0m in \u001b[0;36m__init__\u001b[1;34m(self, array, dtype, copy)\u001b[0m\n\u001b[0;32m    170\u001b[0m         \u001b[1;32melse\u001b[0m\u001b[1;33m:\u001b[0m\u001b[1;33m\u001b[0m\u001b[0m\n\u001b[0;32m    171\u001b[0m             raise ValueError(\n\u001b[1;32m--> 172\u001b[1;33m                 \u001b[1;34m\"Unsupported type passed for {}: {}\"\u001b[0m\u001b[1;33m.\u001b[0m\u001b[0mformat\u001b[0m\u001b[1;33m(\u001b[0m\u001b[0mself\u001b[0m\u001b[1;33m.\u001b[0m\u001b[0m__name__\u001b[0m\u001b[1;33m,\u001b[0m \u001b[0mtype\u001b[0m\u001b[1;33m(\u001b[0m\u001b[0marray\u001b[0m\u001b[1;33m)\u001b[0m\u001b[1;33m)\u001b[0m\u001b[1;33m\u001b[0m\u001b[0m\n\u001b[0m\u001b[0;32m    173\u001b[0m             )\n\u001b[0;32m    174\u001b[0m         \u001b[0mself\u001b[0m\u001b[1;33m.\u001b[0m\u001b[0m_dtype\u001b[0m \u001b[1;33m=\u001b[0m \u001b[0mFletcherDtype\u001b[0m\u001b[1;33m(\u001b[0m\u001b[0mself\u001b[0m\u001b[1;33m.\u001b[0m\u001b[0mdata\u001b[0m\u001b[1;33m.\u001b[0m\u001b[0mtype\u001b[0m\u001b[1;33m)\u001b[0m\u001b[1;33m\u001b[0m\u001b[0m\n",
      "\u001b[1;31mAttributeError\u001b[0m: 'FletcherArray' object has no attribute '__name__'"
     ]
    }
   ],
   "source": [
    "import fletcher\n",
    "\n",
    "fletcher.FletcherArray(range(3))"
   ]
  },
  {
   "cell_type": "code",
   "execution_count": 2,
   "metadata": {},
   "outputs": [
    {
     "ename": "AttributeError",
     "evalue": "'FletcherArray' object has no attribute '__name__'",
     "output_type": "error",
     "traceback": [
      "\u001b[1;31m---------------------------------------------------------------------------\u001b[0m",
      "\u001b[1;31mAttributeError\u001b[0m                            Traceback (most recent call last)",
      "\u001b[1;32m<ipython-input-2-37d5cb319847>\u001b[0m in \u001b[0;36m<module>\u001b[1;34m()\u001b[0m\n\u001b[1;32m----> 1\u001b[1;33m \u001b[0mfletcher\u001b[0m\u001b[1;33m.\u001b[0m\u001b[0mFletcherArray\u001b[0m\u001b[1;33m(\u001b[0m\u001b[1;32mNone\u001b[0m\u001b[1;33m)\u001b[0m\u001b[1;33m\u001b[0m\u001b[0m\n\u001b[0m",
      "\u001b[1;32m~\\miniconda3\\envs\\towards_pandas_1\\lib\\site-packages\\fletcher\\base.py\u001b[0m in \u001b[0;36m__init__\u001b[1;34m(self, array, dtype, copy)\u001b[0m\n\u001b[0;32m    170\u001b[0m         \u001b[1;32melse\u001b[0m\u001b[1;33m:\u001b[0m\u001b[1;33m\u001b[0m\u001b[0m\n\u001b[0;32m    171\u001b[0m             raise ValueError(\n\u001b[1;32m--> 172\u001b[1;33m                 \u001b[1;34m\"Unsupported type passed for {}: {}\"\u001b[0m\u001b[1;33m.\u001b[0m\u001b[0mformat\u001b[0m\u001b[1;33m(\u001b[0m\u001b[0mself\u001b[0m\u001b[1;33m.\u001b[0m\u001b[0m__name__\u001b[0m\u001b[1;33m,\u001b[0m \u001b[0mtype\u001b[0m\u001b[1;33m(\u001b[0m\u001b[0marray\u001b[0m\u001b[1;33m)\u001b[0m\u001b[1;33m)\u001b[0m\u001b[1;33m\u001b[0m\u001b[0m\n\u001b[0m\u001b[0;32m    173\u001b[0m             )\n\u001b[0;32m    174\u001b[0m         \u001b[0mself\u001b[0m\u001b[1;33m.\u001b[0m\u001b[0m_dtype\u001b[0m \u001b[1;33m=\u001b[0m \u001b[0mFletcherDtype\u001b[0m\u001b[1;33m(\u001b[0m\u001b[0mself\u001b[0m\u001b[1;33m.\u001b[0m\u001b[0mdata\u001b[0m\u001b[1;33m.\u001b[0m\u001b[0mtype\u001b[0m\u001b[1;33m)\u001b[0m\u001b[1;33m\u001b[0m\u001b[0m\n",
      "\u001b[1;31mAttributeError\u001b[0m: 'FletcherArray' object has no attribute '__name__'"
     ]
    }
   ],
   "source": [
    "fletcher.FletcherArray(None)"
   ]
  },
  {
   "cell_type": "code",
   "execution_count": null,
   "metadata": {},
   "outputs": [],
   "source": []
  }
 ],
 "metadata": {
  "celltoolbar": "Slideshow",
  "kernelspec": {
   "display_name": "Python 3",
   "language": "python",
   "name": "python3"
  },
  "language_info": {
   "codemirror_mode": {
    "name": "ipython",
    "version": 3
   },
   "file_extension": ".py",
   "mimetype": "text/x-python",
   "name": "python",
   "nbconvert_exporter": "python",
   "pygments_lexer": "ipython3",
   "version": "3.6.6"
  }
 },
 "nbformat": 4,
 "nbformat_minor": 2
}
