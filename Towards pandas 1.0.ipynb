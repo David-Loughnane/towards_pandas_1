{
 "cells": [
  {
   "cell_type": "code",
   "execution_count": null,
   "metadata": {
    "slideshow": {
     "slide_type": "skip"
    }
   },
   "outputs": [],
   "source": [
    "%%HTML\n",
    "<link rel=\"stylesheet\" type=\"text/css\" href=\"css/custom.css\">"
   ]
  },
  {
   "cell_type": "markdown",
   "metadata": {
    "slideshow": {
     "slide_type": "slide"
    }
   },
   "source": [
    "# Towards pandas 1.0\n",
    "\n",
    "Marc Garcia - @datapythonista"
   ]
  },
  {
   "cell_type": "markdown",
   "metadata": {
    "slideshow": {
     "slide_type": "slide"
    }
   },
   "source": [
    "## About me\n",
    "\n",
    "Marc Garcia - @datapythonista\n",
    "\n",
    "- 12 years working with Python\n",
    "- Master degree in AI\n",
    "- pandas core developer\n",
    "- Python fellow\n",
    "- NumFOCUS ambassador / volunteer\n",
    "- Organiser of the London Python sprints group\n",
    "- Data scientist at Tesco\n",
    "\n",
    "https://twitter.com/datapythonista"
   ]
  },
  {
   "cell_type": "markdown",
   "metadata": {
    "slideshow": {
     "slide_type": "slide"
    }
   },
   "source": [
    "## About pandas\n",
    "\n",
    "![](img/wes.jpg)\n",
    "\n",
    "- Started by **Wes McKinney** in 2008 in his spare time\n",
    " - Mainly to have R's `dataframe` functionality in Python"
   ]
  },
  {
   "cell_type": "markdown",
   "metadata": {
    "slideshow": {
     "slide_type": "subslide"
    }
   },
   "source": [
    "- Huge API\n",
    " - `Series` has 325 public methods/attributes\n",
    " - `DataFrame` has 224 public methods/attributes\n",
    " - Native support for 14 data formats (besides loading from Python objects)\n",
    " - More than 1,200 docstrings"
   ]
  },
  {
   "cell_type": "markdown",
   "metadata": {
    "slideshow": {
     "slide_type": "fragment"
    }
   },
   "source": [
    "- Huge user base\n",
    " - Estimated to have between **5 and 10 million users**"
   ]
  },
  {
   "cell_type": "markdown",
   "metadata": {
    "slideshow": {
     "slide_type": "fragment"
    }
   },
   "source": [
    "- Developed by the community (contributors and maintainers rarely get paid for their work in pandas)\n",
    " - Supported by **NumFOCUS**"
   ]
  },
  {
   "cell_type": "markdown",
   "metadata": {
    "slideshow": {
     "slide_type": "slide"
    }
   },
   "source": [
    "## Quick overview"
   ]
  },
  {
   "cell_type": "code",
   "execution_count": null,
   "metadata": {
    "slideshow": {
     "slide_type": "fragment"
    }
   },
   "outputs": [],
   "source": [
    "import pandas\n",
    "\n",
    "df = pandas.read_csv('data/titanic.csv.gz')\n",
    "df.head()"
   ]
  },
  {
   "cell_type": "code",
   "execution_count": null,
   "metadata": {
    "slideshow": {
     "slide_type": "subslide"
    }
   },
   "outputs": [],
   "source": [
    "'{:.0%} passengers with unknown age'.format(\n",
    "    df['Age'].isnull().mean())"
   ]
  },
  {
   "cell_type": "code",
   "execution_count": null,
   "metadata": {
    "slideshow": {
     "slide_type": "fragment"
    }
   },
   "outputs": [],
   "source": [
    "df['Age'].fillna(df.Age.median(), inplace=True)\n",
    "\n",
    "'{:.0%} passengers with unknown age'.format(\n",
    "    df['Age'].isnull().mean())"
   ]
  },
  {
   "cell_type": "code",
   "execution_count": null,
   "metadata": {
    "slideshow": {
     "slide_type": "subslide"
    }
   },
   "outputs": [],
   "source": [
    "%matplotlib inline\n",
    "\n",
    "df[['Age']].boxplot();"
   ]
  },
  {
   "cell_type": "code",
   "execution_count": null,
   "metadata": {
    "slideshow": {
     "slide_type": "fragment"
    }
   },
   "outputs": [],
   "source": [
    "df = df[df.Age < df.Age.quantile(.99)]\n",
    "\n",
    "df[['Age']].boxplot();"
   ]
  },
  {
   "cell_type": "code",
   "execution_count": null,
   "metadata": {
    "slideshow": {
     "slide_type": "subslide"
    }
   },
   "outputs": [],
   "source": [
    "df['Age'] = pandas.cut(df['Age'],\n",
    "                       bins=[df.Age.min(), 18, 40, df.Age.max()],\n",
    "                       labels=['Underage', 'Young', 'Experienced'])\n",
    "df['Age'].head()"
   ]
  },
  {
   "cell_type": "code",
   "execution_count": null,
   "metadata": {
    "slideshow": {
     "slide_type": "subslide"
    }
   },
   "outputs": [],
   "source": [
    "df['Sex'] = df['Sex'].replace({'female': 1, 'male': 0})\n",
    "\n",
    "df = df.pivot_table(values='Sex', columns='Pclass', index='Age', aggfunc='mean')\n",
    "df"
   ]
  },
  {
   "cell_type": "code",
   "execution_count": null,
   "metadata": {
    "slideshow": {
     "slide_type": "fragment"
    }
   },
   "outputs": [],
   "source": [
    "df = df.rename_axis('', axis='columns')\n",
    "df = df.rename('Class {}'.format, axis='columns')\n",
    "df.style.format('{:.2%}')"
   ]
  },
  {
   "cell_type": "markdown",
   "metadata": {
    "slideshow": {
     "slide_type": "slide"
    }
   },
   "source": [
    "## pandas update"
   ]
  },
  {
   "cell_type": "markdown",
   "metadata": {
    "slideshow": {
     "slide_type": "subslide"
    }
   },
   "source": [
    "### Deprecated features\n",
    "\n",
    "- `.ix` method\n",
    " - Use `.loc` and `.iloc` instead"
   ]
  },
  {
   "cell_type": "markdown",
   "metadata": {
    "slideshow": {
     "slide_type": "fragment"
    }
   },
   "source": [
    "- Deprecation of `Panel` (3-dimensional `DataFrame`)\n",
    " - Use `DataFrame` with multi-index, or `x-array` package instead"
   ]
  },
  {
   "cell_type": "markdown",
   "metadata": {
    "slideshow": {
     "slide_type": "subslide"
    }
   },
   "source": [
    "### Future deprecations (TBC)\n",
    "\n",
    "- `SparseDataFrame`\n",
    " - Main use case is `pandas.get_dummies(sparse=True)`\n",
    " - Not sparse like in `coo`, `csc`, `csr`.\n",
    " - Incomplete and buggy"
   ]
  },
  {
   "cell_type": "markdown",
   "metadata": {
    "slideshow": {
     "slide_type": "fragment"
    }
   },
   "source": [
    "- `inplace=True`\n",
    " - Like in `df.fillna(0., inplace=True)`"
   ]
  },
  {
   "cell_type": "code",
   "execution_count": null,
   "metadata": {
    "slideshow": {
     "slide_type": "subslide"
    }
   },
   "outputs": [],
   "source": [
    "import pandas\n",
    "\n",
    "df = pandas.read_csv('data/titanic.csv.gz')\n",
    "\n",
    "df = df[df.Age < df.Age.quantile(.99)]\n",
    "\n",
    "df['Age'].fillna(df.Age.median(), inplace=True)  # <- Using inplace\n",
    "\n",
    "df['Age'] = pandas.cut(df['Age'],\n",
    "                       bins=[df.Age.min(), 18, 40, df.Age.max()],\n",
    "                       labels=['Underage', 'Young', 'Experienced'])\n",
    "\n",
    "df['Sex'] = df['Sex'].replace({'female': 1, 'male': 0})\n",
    "\n",
    "df = df.pivot_table(values='Sex', columns='Pclass', index='Age', aggfunc='mean')\n",
    "\n",
    "df = df.rename_axis('', axis='columns')\n",
    "\n",
    "df = df.rename('Class {}'.format, axis='columns')\n",
    "\n",
    "df.style.format('{:.2%}')"
   ]
  },
  {
   "cell_type": "code",
   "execution_count": null,
   "metadata": {
    "slideshow": {
     "slide_type": "subslide"
    }
   },
   "outputs": [],
   "source": [
    "import pandas\n",
    "\n",
    "(pandas.read_csv('data/titanic.csv.gz')\n",
    "       .query('Age < Age.quantile(.99)')\n",
    "       .assign(Sex=lambda df: df['Sex'].replace({'female': 1, 'male': 0}),\n",
    "               Age=lambda df: pandas.cut(df['Age'].fillna(df.Age.median()),\n",
    "                                         bins=[df.Age.min(), 18, 40, df.Age.max()],\n",
    "                                         labels=['Underage', 'Young', 'Experienced']))\n",
    "       .pivot_table(values='Sex', columns='Pclass', index='Age', aggfunc='mean')\n",
    "       .rename_axis('', axis='columns')\n",
    "       .rename('Class {}'.format, axis='columns')\n",
    "       .style.format('{:.2%}'))"
   ]
  },
  {
   "cell_type": "markdown",
   "metadata": {
    "slideshow": {
     "slide_type": "subslide"
    }
   },
   "source": [
    "### Some reasons\n",
    "\n",
    "- Readability counts\n",
    "- Future ability to have lazy evaluation\n",
    "- Misleading: In place can make a copy"
   ]
  },
  {
   "cell_type": "markdown",
   "metadata": {
    "slideshow": {
     "slide_type": "subslide"
    }
   },
   "source": [
    "#### Readability counts"
   ]
  },
  {
   "cell_type": "code",
   "execution_count": null,
   "metadata": {
    "slideshow": {
     "slide_type": "fragment"
    }
   },
   "outputs": [],
   "source": [
    "import this"
   ]
  },
  {
   "cell_type": "markdown",
   "metadata": {
    "slideshow": {
     "slide_type": "subslide"
    }
   },
   "source": [
    "#### Lazy evaluation"
   ]
  },
  {
   "cell_type": "code",
   "execution_count": null,
   "metadata": {
    "slideshow": {
     "slide_type": "fragment"
    }
   },
   "outputs": [],
   "source": [
    "%time map(lambda x: x ** 2, range(100_000_000_000))"
   ]
  },
  {
   "cell_type": "markdown",
   "metadata": {
    "slideshow": {
     "slide_type": "subslide"
    }
   },
   "source": [
    "![](img/world.jpg)"
   ]
  },
  {
   "cell_type": "code",
   "execution_count": null,
   "metadata": {
    "slideshow": {
     "slide_type": "subslide"
    }
   },
   "outputs": [],
   "source": [
    "import numpy\n",
    "import pandas\n",
    "\n",
    "data = pandas.Series(numpy.random.random(1_000_000))\n",
    "\n",
    "%time data.sort_values(ascending=False).head(3)"
   ]
  },
  {
   "cell_type": "markdown",
   "metadata": {
    "slideshow": {
     "slide_type": "subslide"
    }
   },
   "source": [
    "![](img/books.jpg)"
   ]
  },
  {
   "cell_type": "code",
   "execution_count": null,
   "metadata": {
    "slideshow": {
     "slide_type": "subslide"
    }
   },
   "outputs": [],
   "source": [
    "%time data.nlargest(3)"
   ]
  },
  {
   "cell_type": "markdown",
   "metadata": {
    "slideshow": {
     "slide_type": "subslide"
    }
   },
   "source": [
    "## Distribution of the subtasks\n",
    "\n",
    "![](img/dask.gif)"
   ]
  },
  {
   "cell_type": "markdown",
   "metadata": {
    "slideshow": {
     "slide_type": "subslide"
    }
   },
   "source": [
    "- Ibis\n",
    " - http://docs.ibis-project.org/\n",
    "\n",
    "- Dask\n",
    " - https://dask.pydata.org\n",
    "\n",
    "- Tom Augspurger: Method chaining\n",
    " - https://tomaugspurger.github.io/method-chaining\n",
    "\n",
    "- James Powell: Generators will free your mind\n",
    " - https://www.youtube.com/watch?v=RdhoN4VVqq8"
   ]
  },
  {
   "cell_type": "markdown",
   "metadata": {
    "slideshow": {
     "slide_type": "subslide"
    }
   },
   "source": [
    "### Memory copies\n",
    "\n",
    "```python\n",
    ">>> df = pandas.DataFrame({'foo': [1., 2.],\n",
    "...                        'bar': [numpy.nan, 4.]})\n",
    "   foo  bar\n",
    "0  1.0  NaN\n",
    "1  2.0  4.0\n",
    "\n",
    "```\n",
    "\n",
    "In place:\n",
    "\n",
    "```python\n",
    ">>> df.fillna(0., inplace=True)\n",
    ">>> df.isnull().any(axis=None)\n",
    "False\n",
    "```\n",
    "\n",
    "Return a copy:\n",
    "\n",
    "```python\n",
    ">>> df_copy = df.fillna(0.)\n",
    ">>> df.isnull().any(axis=None)\n",
    "True\n",
    "```"
   ]
  },
  {
   "cell_type": "markdown",
   "metadata": {
    "slideshow": {
     "slide_type": "subslide"
    }
   },
   "source": [
    "Data representation example: Number 79\n",
    "\n",
    "- **uint8:** 01001111\n",
    "- **int32:** 00000000000000000000000001001111\n",
    "- **float64:** 0100000001010011110000000000000000000000000000000000000000000000\n",
    "- **object:** `<memory_address> -> <pyobject (refcount, type, size, digit)>`\n",
    "- **string (ascii):** 0011011100111001"
   ]
  },
  {
   "cell_type": "markdown",
   "metadata": {
    "slideshow": {
     "slide_type": "subslide"
    }
   },
   "source": [
    "#### NumPy\n",
    "\n",
    "![](img/numpy.jpg)\n",
    "\n",
    "Source: https://www.slideshare.net/teoliphant/python-for-data-science-with-anaconda"
   ]
  },
  {
   "cell_type": "markdown",
   "metadata": {
    "slideshow": {
     "slide_type": "subslide"
    }
   },
   "source": [
    "![](img/blockmanager.png)\n",
    "\n",
    "Source: https://www.dataquest.io/blog/pandas-big-data/"
   ]
  },
  {
   "cell_type": "markdown",
   "metadata": {
    "slideshow": {
     "slide_type": "subslide"
    }
   },
   "source": [
    "Changing the size or type of a block requires:\n",
    "\n",
    "- **Allocate** a block of different size or type\n",
    "- **Copy** all content to the new block\n",
    "- **Deallocate** old block"
   ]
  },
  {
   "cell_type": "markdown",
   "metadata": {
    "slideshow": {
     "slide_type": "subslide"
    }
   },
   "source": [
    "## Why is important whether we copy data or not?\n",
    "\n",
    "![](img/cpu_memory_speed.jpg)"
   ]
  },
  {
   "cell_type": "code",
   "execution_count": null,
   "metadata": {
    "slideshow": {
     "slide_type": "subslide"
    }
   },
   "outputs": [],
   "source": [
    "df = pandas.DataFrame({'foo': [1., 2.],\n",
    "                       'bar': [numpy.nan, 4.]})\n",
    "\n",
    "print(df.dtypes)"
   ]
  },
  {
   "cell_type": "code",
   "execution_count": null,
   "metadata": {
    "slideshow": {
     "slide_type": "fragment"
    }
   },
   "outputs": [],
   "source": [
    "df.fillna('val', inplace=True)\n",
    "\n",
    "print(df.dtypes)"
   ]
  },
  {
   "cell_type": "markdown",
   "metadata": {
    "slideshow": {
     "slide_type": "subslide"
    }
   },
   "source": [
    "Notes on memory copies:\n",
    "\n",
    "- With the `BlockManager` memory copies are frequent\n",
    "\n",
    "- `inplace=True` does not mean memory is not copied\n",
    "\n",
    "- `df = df.something()` syntax does not implies memory copies"
   ]
  },
  {
   "cell_type": "markdown",
   "metadata": {
    "slideshow": {
     "slide_type": "subslide"
    }
   },
   "source": [
    "- Jake VanderPlas: Why Python is Slow: Looking Under the Hood\n",
    " - http://jakevdp.github.io/blog/2014/05/09/why-python-is-slow/\n",
    "\n",
    "\n",
    "- Marc Garcia: Demistifying pandas internals\n",
    " - https://www.youtube.com/watch?v=F37fV0uFf60"
   ]
  },
  {
   "cell_type": "markdown",
   "metadata": {
    "slideshow": {
     "slide_type": "subslide"
    }
   },
   "source": [
    "<p style=\"text-align: center; font-size: 1.2em; line-height: 1.2em\">\n",
    "    \"The more you know about the internals of pandas DataFrame,<br/>\n",
    "    the more horrified you are.\"\n",
    "</p>\n",
    "\n",
    "<p style=\"text-align: right; font-size: 1.2em\">\n",
    "    Wes McKinney @ SciPy 2018\n",
    "</p>"
   ]
  },
  {
   "cell_type": "markdown",
   "metadata": {
    "slideshow": {
     "slide_type": "subslide"
    }
   },
   "source": [
    "### What is the solution?"
   ]
  },
  {
   "cell_type": "markdown",
   "metadata": {
    "slideshow": {
     "slide_type": "fragment"
    }
   },
   "source": [
    "**Apache arrow** - https://arrow.apache.org/\n",
    "\n",
    "- Open standard for **columnar data** representation\n",
    "- Optimised to avoid **CPU cache** misses\n",
    "- Native representation of complex formats (e.g. **string**, categorical, lists...)\n",
    "- Built-in **parallelism** (multiple cores support)\n",
    "- **Chunking**\n",
    "- Much more\n",
    "\n",
    "**A back-end designed for pandas needs (and R and others)**\n",
    "\n",
    "- Wes McKinney: Apache Arrow and the \"10 Things I Hate About pandas\"\n",
    " - http://wesmckinney.com/blog/apache-arrow-pandas-internals/\n",
    "\n",
    "- Wes McKinney: Apache Arrow, A Cross-Language Development Platform for in Memory Data\n",
    " - https://www.youtube.com/watch?v=y7zGnKzaKIw"
   ]
  },
  {
   "cell_type": "markdown",
   "metadata": {
    "slideshow": {
     "slide_type": "subslide"
    }
   },
   "source": [
    "Already used in pandas and other projecs\n",
    "- `pandas.from_parquet`\n",
    "- `pyspark.DataFrame.to_pandas()`\n",
    "- `turbodbc`\n",
    "\n",
    "But still work in progress to be the pandas backend 😒"
   ]
  },
  {
   "cell_type": "markdown",
   "metadata": {
    "slideshow": {
     "slide_type": "fragment"
    }
   },
   "source": [
    "Wes is hiring to work full-time on Arrow at Ursa Labs (C++, remote) 😃\n",
    "\n",
    "- Ursa Labs announcement: http://wesmckinney.com/blog/announcing-ursalabs/\n",
    "- Job description: https://hire.withgoogle.com/public/jobs/rstudiocom/view/P_AAAAAACAAADN8HO470lz8Z"
   ]
  },
  {
   "cell_type": "markdown",
   "metadata": {
    "slideshow": {
     "slide_type": "slide"
    }
   },
   "source": [
    "## What else is happening in pandas?"
   ]
  },
  {
   "cell_type": "markdown",
   "metadata": {
    "slideshow": {
     "slide_type": "fragment"
    }
   },
   "source": [
    "- Lots of **maintenance**\n",
    " - Bugfixes, automation, cleaning..."
   ]
  },
  {
   "cell_type": "markdown",
   "metadata": {
    "slideshow": {
     "slide_type": "subslide"
    }
   },
   "source": [
    "- Update to new Python versions\n",
    " - Python **3.7** compatibility\n",
    " - Use of sorted dicts (DataFrame creation, `assign`...)"
   ]
  },
  {
   "cell_type": "code",
   "execution_count": null,
   "metadata": {
    "slideshow": {
     "slide_type": "fragment"
    }
   },
   "outputs": [],
   "source": [
    "import pandas\n",
    "\n",
    "fib = pandas.DataFrame({'fib1': [1, 1, 1], 'fib2': [1, 1, 1]})\n",
    "fib"
   ]
  },
  {
   "cell_type": "code",
   "execution_count": null,
   "metadata": {
    "slideshow": {
     "slide_type": "fragment"
    }
   },
   "outputs": [],
   "source": [
    "fib = fib.assign(fib3=lambda fib: fib['fib1'] + fib['fib2'],\n",
    "                 fib4=lambda fib: fib['fib2'] + fib['fib3'])\n",
    "fib"
   ]
  },
  {
   "cell_type": "markdown",
   "metadata": {
    "slideshow": {
     "slide_type": "slide"
    }
   },
   "source": [
    "### Dropping Python 2 support\n",
    "\n",
    "- In January 2019 (yes, in 4.5 months)\n",
    " - Not only pandas, also numpy, matplotlib and others"
   ]
  },
  {
   "cell_type": "markdown",
   "metadata": {
    "slideshow": {
     "slide_type": "subslide"
    }
   },
   "source": [
    "### Some Python 3 features\n",
    "\n",
    "Old:\n",
    "```python\n",
    "samples = 100000000\n",
    "```\n",
    "\n",
    "New:\n",
    "```python\n",
    "samples = 100_000_000\n",
    "```"
   ]
  },
  {
   "cell_type": "markdown",
   "metadata": {
    "slideshow": {
     "slide_type": "subslide"
    }
   },
   "source": [
    "### Some Python 3 features\n",
    "\n",
    "Old:\n",
    "```python\n",
    "print('samples: %s' % samples)\n",
    "print('samples: {samples}'.format(samples=samples))\n",
    "```\n",
    "\n",
    "New:\n",
    "```python\n",
    "print(f'samples: {samples}')\n",
    "```"
   ]
  },
  {
   "cell_type": "markdown",
   "metadata": {
    "slideshow": {
     "slide_type": "subslide"
    }
   },
   "source": [
    "### Some Python 3 features\n",
    "\n",
    "```python\n",
    "data = 'My hovercraft is full of eels.'.split()\n",
    "```\n",
    "\n",
    "Old:\n",
    "```python\n",
    "first, second, last = data[0], data[1], data[-1]\n",
    "```\n",
    "\n",
    "New:\n",
    "```python\n",
    "first, second, *discard, last = data\n",
    "```"
   ]
  },
  {
   "cell_type": "markdown",
   "metadata": {
    "slideshow": {
     "slide_type": "subslide"
    }
   },
   "source": [
    "### Cost of supporting Python 2\n",
    "\n",
    "Supporting last version only:\n",
    "```python\n",
    "def length(value):\n",
    "    if isinstance(value, str):\n",
    "        return len(value)\n",
    "```\n",
    "\n",
    "Supporting Python 2:\n",
    "```python\n",
    "def length(value):\n",
    "    if isinstance(value, compat.string_types):\n",
    "        return compat.strlen(value)\n",
    "```"
   ]
  },
  {
   "cell_type": "markdown",
   "metadata": {
    "slideshow": {
     "slide_type": "subslide"
    }
   },
   "source": [
    "### Cost of supporting Python 2\n",
    "\n",
    "Supporting last version only:\n",
    "```python\n",
    "def sorted_apply(func, items):\n",
    "    return {x: func(x) for x in items}\n",
    "```\n",
    "\n",
    "Supporting Python 2:\n",
    "```python\n",
    "def sorted_apply(func, items):\n",
    "    if compat.PY36:\n",
    "        return {x: func(x) for x in items}\n",
    "    else:\n",
    "        result = collections.OrderedDict()\n",
    "        for x in items:\n",
    "            result[x] = func(x)\n",
    "        return result\n",
    "```"
   ]
  },
  {
   "cell_type": "markdown",
   "metadata": {
    "slideshow": {
     "slide_type": "subslide"
    }
   },
   "source": [
    "### Dropping Python 2 support\n",
    "\n",
    "- In January 2019 (yes, in 4.5 months)\n",
    " - Not only pandas, also numpy, matplotlib and others"
   ]
  },
  {
   "cell_type": "markdown",
   "metadata": {
    "slideshow": {
     "slide_type": "slide"
    }
   },
   "source": [
    "## Extension arrays"
   ]
  },
  {
   "cell_type": "code",
   "execution_count": null,
   "metadata": {
    "slideshow": {
     "slide_type": "fragment"
    }
   },
   "outputs": [],
   "source": [
    "import numpy\n",
    "import pandas\n",
    "\n",
    "s = pandas.Series([1, 2, 3], dtype=numpy.uint8)\n",
    "\n",
    "s"
   ]
  },
  {
   "cell_type": "code",
   "execution_count": null,
   "metadata": {
    "slideshow": {
     "slide_type": "fragment"
    }
   },
   "outputs": [],
   "source": [
    "s.values"
   ]
  },
  {
   "cell_type": "markdown",
   "metadata": {
    "slideshow": {
     "slide_type": "subslide"
    }
   },
   "source": [
    "### Categories"
   ]
  },
  {
   "cell_type": "code",
   "execution_count": null,
   "metadata": {
    "slideshow": {
     "slide_type": "fragment"
    }
   },
   "outputs": [],
   "source": [
    "s = pandas.Series(['dog', 'cat', 'dog'], dtype='category')\n",
    "\n",
    "s"
   ]
  },
  {
   "cell_type": "code",
   "execution_count": null,
   "metadata": {
    "slideshow": {
     "slide_type": "fragment"
    }
   },
   "outputs": [],
   "source": [
    "s.values"
   ]
  },
  {
   "cell_type": "code",
   "execution_count": null,
   "metadata": {
    "slideshow": {
     "slide_type": "fragment"
    }
   },
   "outputs": [],
   "source": [
    "s.cat.codes"
   ]
  },
  {
   "cell_type": "code",
   "execution_count": null,
   "metadata": {
    "slideshow": {
     "slide_type": "fragment"
    }
   },
   "outputs": [],
   "source": [
    "s.cat.categories"
   ]
  },
  {
   "cell_type": "markdown",
   "metadata": {
    "slideshow": {
     "slide_type": "subslide"
    }
   },
   "source": [
    "### Cyberpandas"
   ]
  },
  {
   "cell_type": "code",
   "execution_count": null,
   "metadata": {
    "slideshow": {
     "slide_type": "fragment"
    }
   },
   "outputs": [],
   "source": [
    "import cyberpandas\n",
    "\n",
    "arr = cyberpandas.IPArray(['127.0.0.1', '255.255.255.0'])\n",
    "\n",
    "s = pandas.Series(arr)\n",
    "\n",
    "s"
   ]
  },
  {
   "cell_type": "markdown",
   "metadata": {
    "slideshow": {
     "slide_type": "subslide"
    }
   },
   "source": [
    "### Integer with NaN"
   ]
  },
  {
   "cell_type": "code",
   "execution_count": null,
   "metadata": {
    "slideshow": {
     "slide_type": "subslide"
    }
   },
   "outputs": [],
   "source": [
    "import numpy\n",
    "import pandas\n",
    "\n",
    "pandas.Series([1, 2, numpy.nan, 4])"
   ]
  },
  {
   "cell_type": "code",
   "execution_count": null,
   "metadata": {
    "slideshow": {
     "slide_type": "subslide"
    }
   },
   "outputs": [],
   "source": [
    "import numpy\n",
    "import pandas\n",
    "\n",
    "pandas.Series([1, 2, numpy.nan, 4], dtype=numpy.uint8)"
   ]
  },
  {
   "cell_type": "code",
   "execution_count": null,
   "metadata": {
    "slideshow": {
     "slide_type": "subslide"
    }
   },
   "outputs": [],
   "source": [
    "import numpy\n",
    "import pandas\n",
    "\n",
    "pandas.Series([1, 2, numpy.nan, 4], dtype='UInt8')"
   ]
  },
  {
   "cell_type": "markdown",
   "metadata": {
    "slideshow": {
     "slide_type": "subslide"
    }
   },
   "source": [
    "### Fletcher"
   ]
  },
  {
   "cell_type": "code",
   "execution_count": null,
   "metadata": {
    "slideshow": {
     "slide_type": "subslide"
    }
   },
   "outputs": [],
   "source": [
    "import random\n",
    "\n",
    "spam_list = [random.choice(['spam', 'spam,', 'spam!'])\n",
    "             for i in range(1_000_000)]\n",
    "\n",
    "spam_list[:10]"
   ]
  },
  {
   "cell_type": "code",
   "execution_count": null,
   "metadata": {
    "slideshow": {
     "slide_type": "fragment"
    }
   },
   "outputs": [],
   "source": [
    "import pandas\n",
    "\n",
    "s = pandas.Series(spam_list)\n",
    "\n",
    "s.str.endswith('!').mean()"
   ]
  },
  {
   "cell_type": "code",
   "execution_count": null,
   "metadata": {
    "slideshow": {
     "slide_type": "fragment"
    }
   },
   "outputs": [],
   "source": [
    "%timeit s.str.endswith('!').mean()"
   ]
  },
  {
   "cell_type": "code",
   "execution_count": null,
   "metadata": {
    "slideshow": {
     "slide_type": "subslide"
    }
   },
   "outputs": [],
   "source": [
    "import fletcher\n",
    "\n",
    "spam_fletcher = fletcher.FletcherArray(spam_list)\n",
    "\n",
    "s = pandas.Series(spam_fletcher)\n",
    "s.head()"
   ]
  },
  {
   "cell_type": "code",
   "execution_count": null,
   "metadata": {
    "slideshow": {
     "slide_type": "fragment"
    }
   },
   "outputs": [],
   "source": [
    "%timeit s.text.endswith('!').mean()"
   ]
  },
  {
   "cell_type": "markdown",
   "metadata": {
    "slideshow": {
     "slide_type": "subslide"
    }
   },
   "source": [
    "## Documentation\n",
    "\n",
    "![](img/docs.png)"
   ]
  },
  {
   "cell_type": "markdown",
   "metadata": {
    "slideshow": {
     "slide_type": "subslide"
    }
   },
   "source": [
    "### scikit-learn integration\n",
    "\n"
   ]
  },
  {
   "cell_type": "code",
   "execution_count": null,
   "metadata": {
    "slideshow": {
     "slide_type": "fragment"
    }
   },
   "outputs": [],
   "source": [
    "import sklearn.pipeline\n",
    "import sklearn.compose\n",
    "import sklearn.preprocessing\n",
    "import sklearn.linear_model\n",
    "\n",
    "preprocess = sklearn.compose.make_column_transformer(\n",
    "    (['Fare'], sklearn.preprocessing.StandardScaler()),\n",
    "    (['Sex', 'Pclass'], sklearn.preprocessing.OneHotEncoder()))\n",
    "\n",
    "model = sklearn.pipeline.Pipeline([\n",
    "    ('preprocess', preprocess),\n",
    "    ('classifier', sklearn.linear_model.LogisticRegression()),\n",
    "])"
   ]
  },
  {
   "cell_type": "code",
   "execution_count": null,
   "metadata": {
    "slideshow": {
     "slide_type": "fragment"
    }
   },
   "outputs": [],
   "source": [
    "import pandas\n",
    "\n",
    "df = pandas.read_csv('data/titanic.csv.gz')\n",
    "x, y = df[['Fare', 'Sex', 'Pclass']], df['Survived']\n",
    "\n",
    "model.fit(x, y)\n",
    "\n",
    "preprocess.fit_transform(x)"
   ]
  },
  {
   "cell_type": "markdown",
   "metadata": {
    "slideshow": {
     "slide_type": "subslide"
    }
   },
   "source": [
    "- Joris Van den Bossche: Introducing the ColumnTransformer\n",
    " - https://jorisvandenbossche.github.io/blog/2018/05/28/scikit-learn-columntransformer/\n",
    "\n",
    "\n",
    "- Joris Van den Bossche: A new categorical encoder\n",
    " - https://jorisvandenbossche.github.io/blog/2017/11/20/categorical-encoder/\n",
    "\n",
    "\n",
    "- Joris Van den Bossche: scikit-learn and tabular data\n",
    " - https://www.youtube.com/watch?v=lXGcPbmxx8Q"
   ]
  },
  {
   "cell_type": "markdown",
   "metadata": {
    "slideshow": {
     "slide_type": "slide"
    }
   },
   "source": [
    "## pandas 1.0 Roadmap\n",
    "\n",
    "- **0.24**: September 2018\n",
    "\n",
    "- **0.25**: December 2018\n",
    " - Warnings for all deprecations\n",
    "\n",
    "- **1.0**\n",
    " - Same as 0.25, but with all deprecated features removed\n",
    " - If released in 2019, Python 3 only\n",
    "\n",
    "- No backward compatibility changes until 2.0\n",
    "\n",
    "https://github.com/pandas-dev/pandas/wiki/Pandas-Sprint-(July,-2018)"
   ]
  },
  {
   "cell_type": "markdown",
   "metadata": {
    "slideshow": {
     "slide_type": "slide"
    }
   },
   "source": [
    "## Get involved\n",
    "\n",
    "- **London Python sprints**\n",
    " - https://python-sprints.github.io/ / https://www.meetup.com/Python-Sprints/\n",
    "\n",
    "- Support **NumFOCUS**\n",
    " - https://numfocus.org/\n",
    " - Volunteer\n",
    " - Donate\n",
    " - Make your company involved\n",
    "   - Sponsor PyData\n",
    "   - Sponsor NumFOCUS\n",
    "   - https://numfocus.org/forum2018\n",
    "\n",
    "- Contact me directly\n",
    " - In the **pub**\n",
    " - On the Internet: **@datapythonista** (twitter, linkedin...)"
   ]
  },
  {
   "cell_type": "markdown",
   "metadata": {
    "slideshow": {
     "slide_type": "slide"
    }
   },
   "source": [
    "## Thank you!\n",
    "\n",
    "![](img/pandas_team.jpg)"
   ]
  }
 ],
 "metadata": {
  "celltoolbar": "Slideshow",
  "kernelspec": {
   "display_name": "Python 3",
   "language": "python",
   "name": "python3"
  },
  "language_info": {
   "codemirror_mode": {
    "name": "ipython",
    "version": 3
   },
   "file_extension": ".py",
   "mimetype": "text/x-python",
   "name": "python",
   "nbconvert_exporter": "python",
   "pygments_lexer": "ipython3",
   "version": "3.6.6"
  }
 },
 "nbformat": 4,
 "nbformat_minor": 2
}
