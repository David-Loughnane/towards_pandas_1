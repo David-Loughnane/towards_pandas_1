{
 "cells": [
  {
   "cell_type": "code",
   "execution_count": 1,
   "metadata": {
    "slideshow": {
     "slide_type": "skip"
    }
   },
   "outputs": [
    {
     "data": {
      "text/html": [
       "<link rel=\"stylesheet\" type=\"text/css\" href=\"css/custom.css\">"
      ],
      "text/plain": [
       "<IPython.core.display.HTML object>"
      ]
     },
     "metadata": {},
     "output_type": "display_data"
    }
   ],
   "source": [
    "%%HTML\n",
    "<link rel=\"stylesheet\" type=\"text/css\" href=\"css/custom.css\">"
   ]
  },
  {
   "cell_type": "markdown",
   "metadata": {
    "slideshow": {
     "slide_type": "slide"
    }
   },
   "source": [
    "# Towards pandas 1.0\n",
    "\n",
    "Marc Garcia - @datapythonista"
   ]
  },
  {
   "cell_type": "markdown",
   "metadata": {
    "slideshow": {
     "slide_type": "slide"
    }
   },
   "source": [
    "## About me\n",
    "\n",
    "Marc Garcia - @datapythonista\n",
    "\n",
    "- 12 years working with Python\n",
    "- pandas core developer\n",
    "- Python fellow\n",
    "- Organiser of the London Python sprints group\n",
    "- Data scientist at Tesco"
   ]
  },
  {
   "cell_type": "markdown",
   "metadata": {
    "slideshow": {
     "slide_type": "slide"
    }
   },
   "source": [
    "## About pandas\n",
    "\n",
    "![](img/wes.jpg)\n",
    "\n",
    "- Started by **Wes McKinney** in 2008 in his spare time\n",
    " - To have R's `dataframe` functionality in Python"
   ]
  },
  {
   "cell_type": "markdown",
   "metadata": {
    "slideshow": {
     "slide_type": "fragment"
    }
   },
   "source": [
    "- Huge API\n",
    " - `Series` has 325 public methods/attributes\n",
    " - `DataFrame` has 224 public methods/attributes\n",
    " - Native support for 14 data formats (besides loading from Python objects)\n",
    " - More than 1,200 docstrings"
   ]
  },
  {
   "cell_type": "markdown",
   "metadata": {
    "slideshow": {
     "slide_type": "fragment"
    }
   },
   "source": [
    "- Huge user base\n",
    " - Estimated to have around **10 million users**"
   ]
  },
  {
   "cell_type": "markdown",
   "metadata": {
    "slideshow": {
     "slide_type": "fragment"
    }
   },
   "source": [
    "- Developed by the community (contributors and maintainers rarely get paid for their work in pandas)\n",
    " - Supported by **NumFOCUS**"
   ]
  },
  {
   "cell_type": "markdown",
   "metadata": {
    "slideshow": {
     "slide_type": "slide"
    }
   },
   "source": [
    "## Quick overview"
   ]
  },
  {
   "cell_type": "code",
   "execution_count": null,
   "metadata": {},
   "outputs": [],
   "source": []
  },
  {
   "cell_type": "markdown",
   "metadata": {
    "slideshow": {
     "slide_type": "slide"
    }
   },
   "source": [
    "## Features being deprecated\n",
    "\n",
    "- Deprecation of `Panel` (n-dimensional `DataFrame`)\n",
    " - Use `DataFrame` with multi-index, or `x-array` package instead"
   ]
  },
  {
   "cell_type": "markdown",
   "metadata": {
    "slideshow": {
     "slide_type": "fragment"
    }
   },
   "source": [
    "- `.ix` method\n",
    " - Use `.loc` and `.iloc` instead"
   ]
  },
  {
   "cell_type": "markdown",
   "metadata": {
    "slideshow": {
     "slide_type": "fragment"
    }
   },
   "source": [
    "- `SparseDataFrame`\n",
    " - TBC"
   ]
  },
  {
   "cell_type": "markdown",
   "metadata": {
    "slideshow": {
     "slide_type": "subslide"
    }
   },
   "source": [
    "## Features being deprecated\n",
    "\n",
    "- `inplace=True` in `Series` and `DataFrame` methods\n",
    " - TBC"
   ]
  },
  {
   "cell_type": "code",
   "execution_count": null,
   "metadata": {
    "slideshow": {
     "slide_type": "fragment"
    }
   },
   "outputs": [],
   "source": [
    "df = (pandas.read_csv('flights.csv')\n",
    "            .rename(columns=str.lower)\n",
    "            .drop('code', axis='columns')\n",
    "            .query('country == \"GB\"')\n",
    "            .assign(delay=lambda df: df['actual_arrival'] - df['expected_arrival'],\n",
    "                    cancelled=lambda df: df['cancelled'].replace({'Yes': True, 'No': False}))\n",
    "            .groupby('airline')\n",
    "            .agg({'delay': 'sum', 'cancelled': 'mean'})\n",
    "            .sort_values('delay', ascending=False))"
   ]
  },
  {
   "cell_type": "markdown",
   "metadata": {
    "slideshow": {
     "slide_type": "fragment"
    }
   },
   "source": [
    "- This syntax should avoid unnecesary memory copies\n",
    "- May be in the long term operations could be lazy?"
   ]
  },
  {
   "cell_type": "markdown",
   "metadata": {
    "slideshow": {
     "slide_type": "slide"
    }
   },
   "source": [
    "## Dropping Python 2 support\n",
    "\n",
    "- In January 2019 (yes, in 4.5 months)\n",
    " - Not only pandas, also numpy, matplotlib and others"
   ]
  },
  {
   "cell_type": "markdown",
   "metadata": {
    "slideshow": {
     "slide_type": "subslide"
    }
   },
   "source": [
    "## Some Python 3 features\n",
    "\n",
    "Old:\n",
    "```python\n",
    "samples = 100000000\n",
    "```\n",
    "\n",
    "New:\n",
    "```python\n",
    "samples = 100_000_000\n",
    "```"
   ]
  },
  {
   "cell_type": "markdown",
   "metadata": {
    "slideshow": {
     "slide_type": "subslide"
    }
   },
   "source": [
    "## Some Python 3 features\n",
    "\n",
    "Old:\n",
    "```python\n",
    "print('samples: %s' % samples)\n",
    "print('samples: {samples}'.format(samples=samples))\n",
    "```\n",
    "\n",
    "New:\n",
    "```python\n",
    "print(f'samples: {samples}')\n",
    "```"
   ]
  },
  {
   "cell_type": "markdown",
   "metadata": {
    "slideshow": {
     "slide_type": "subslide"
    }
   },
   "source": [
    "## Some Python 3 features\n",
    "\n",
    "```python\n",
    "data = 'My hovercraft is full of eels.'.split()\n",
    "```\n",
    "\n",
    "Old:\n",
    "```python\n",
    "first, second, last = data[0], data[1], data[-1]\n",
    "```\n",
    "\n",
    "New:\n",
    "```python\n",
    "first, second, *discard, last = data\n",
    "```"
   ]
  },
  {
   "cell_type": "markdown",
   "metadata": {
    "slideshow": {
     "slide_type": "subslide"
    }
   },
   "source": [
    "## Cost of supporting Python 2\n",
    "\n",
    "Supporting last version only:\n",
    "```python\n",
    "def length(value):\n",
    "    if isinstance(value, str):\n",
    "        return len(value)\n",
    "```\n",
    "\n",
    "Supporting Python 2:\n",
    "```python\n",
    "def length(value):\n",
    "    if isinstance(value, compat.string_types):\n",
    "        return compat.strlen(value)\n",
    "```"
   ]
  },
  {
   "cell_type": "markdown",
   "metadata": {
    "slideshow": {
     "slide_type": "subslide"
    }
   },
   "source": [
    "## Cost of supporting Python 2\n",
    "\n",
    "Supporting last version only:\n",
    "```python\n",
    "def sorted_apply(func, items):\n",
    "    return {x: func(x) for x in items}\n",
    "```\n",
    "\n",
    "Supporting Python 2:\n",
    "```python\n",
    "def sorted_apply(func, items):\n",
    "    if compat.PY36:\n",
    "        return {x: func(x) for x in items}\n",
    "    else:\n",
    "        result = collections.OrderedDict()\n",
    "        for x in items:\n",
    "            result[x] = func(x)\n",
    "        return result\n",
    "```"
   ]
  },
  {
   "cell_type": "markdown",
   "metadata": {
    "slideshow": {
     "slide_type": "subslide"
    }
   },
   "source": [
    "## Dropping Python 2 support\n",
    "\n",
    "- In January 2019 (yes, in 4.5 months)\n",
    " - Not only pandas, also numpy, matplotlib and others"
   ]
  },
  {
   "cell_type": "markdown",
   "metadata": {
    "slideshow": {
     "slide_type": "slide"
    }
   },
   "source": [
    "## New features\n",
    "\n",
    "- Extension arrays\n"
   ]
  },
  {
   "cell_type": "code",
   "execution_count": null,
   "metadata": {},
   "outputs": [],
   "source": []
  }
 ],
 "metadata": {
  "celltoolbar": "Slideshow",
  "kernelspec": {
   "display_name": "Python 3",
   "language": "python",
   "name": "python3"
  },
  "language_info": {
   "codemirror_mode": {
    "name": "ipython",
    "version": 3
   },
   "file_extension": ".py",
   "mimetype": "text/x-python",
   "name": "python",
   "nbconvert_exporter": "python",
   "pygments_lexer": "ipython3",
   "version": "3.7.0"
  }
 },
 "nbformat": 4,
 "nbformat_minor": 2
}
